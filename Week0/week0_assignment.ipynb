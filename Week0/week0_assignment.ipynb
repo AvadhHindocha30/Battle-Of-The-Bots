{
 "cells": [
  {
   "cell_type": "code",
   "execution_count": 1,
   "metadata": {
    "executionInfo": {
     "elapsed": 13435,
     "status": "ok",
     "timestamp": 1748187482322,
     "user": {
      "displayName": "Tamanna Kumari",
      "userId": "01952186296851878699"
     },
     "user_tz": -330
    },
    "id": "DzI0_iA99iTp"
   },
   "outputs": [],
   "source": [
    "import torch\n",
    "import torch.nn as nn\n",
    "import torch.optim as optim\n",
    "from torchvision import datasets, transforms, utils\n",
    "from torch.utils.data import DataLoader\n",
    "import matplotlib.pyplot as plt\n",
    "import numpy as np"
   ]
  },
  {
   "cell_type": "code",
   "execution_count": 2,
   "metadata": {
    "colab": {
     "base_uri": "https://localhost:8080/"
    },
    "executionInfo": {
     "elapsed": 7,
     "status": "ok",
     "timestamp": 1748187482322,
     "user": {
      "displayName": "Tamanna Kumari",
      "userId": "01952186296851878699"
     },
     "user_tz": -330
    },
    "id": "soENjV1e97k1",
    "outputId": "358df09d-4e68-434f-bec1-18df4482d64b"
   },
   "outputs": [
    {
     "name": "stdout",
     "output_type": "stream",
     "text": [
      "Using device: cpu\n"
     ]
    }
   ],
   "source": [
    "# Using the GPU if it exists\n",
    "device = torch.device(\"cuda\" if torch.cuda.is_available() else \"cpu\")\n",
    "print(f\"Using device: {device}\")"
   ]
  },
  {
   "cell_type": "code",
   "execution_count": 3,
   "metadata": {
    "colab": {
     "base_uri": "https://localhost:8080/"
    },
    "executionInfo": {
     "elapsed": 11464,
     "status": "ok",
     "timestamp": 1748187493783,
     "user": {
      "displayName": "Tamanna Kumari",
      "userId": "01952186296851878699"
     },
     "user_tz": -330
    },
    "id": "7zN4rFqQ_mai",
    "outputId": "c5d758f0-0c15-444b-c7c4-28cc58c52dda"
   },
   "outputs": [
    {
     "name": "stderr",
     "output_type": "stream",
     "text": [
      "100.0%\n"
     ]
    },
    {
     "name": "stdout",
     "output_type": "stream",
     "text": [
      "torch.Size([64, 3, 32, 32])\n"
     ]
    }
   ],
   "source": [
    "transform = transforms.Compose([transforms.RandomHorizontalFlip(),transforms.ToTensor(), transforms.Normalize((0.5,0.5,0.5), (0.5,0.5,0.5))])\n",
    "#three channels this time for input.\n",
    "train_data = datasets.CIFAR100(root='./data', train=True, download=True, transform=transform)\n",
    "test_data = datasets.CIFAR100(root='./data', train=False, download=True, transform=transform)\n",
    "\n",
    "train_loader = DataLoader(train_data, batch_size=64, shuffle=True)\n",
    "test_loader = DataLoader(test_data, batch_size=1000, shuffle=False)\n",
    "\n",
    "for x,y in train_loader:\n",
    "  print(x.shape)\n",
    "  break\n",
    "\n"
   ]
  },
  {
   "cell_type": "code",
   "execution_count": null,
   "metadata": {
    "executionInfo": {
     "elapsed": 508,
     "status": "ok",
     "timestamp": 1748187689551,
     "user": {
      "displayName": "Tamanna Kumari",
      "userId": "01952186296851878699"
     },
     "user_tz": -330
    },
    "id": "4fMzm2nDADi1"
   },
   "outputs": [],
   "source": [
    "class MyModel(nn.Module):\n",
    "    def __init__(self):\n",
    "        super(MyModel, self).__init__()\n",
    "\n",
    "        # Convolutional blocks\n",
    "        self.conv1 = nn.Conv2d(3, 32, kernel_size=3, padding=1)\n",
    "        self.bn1 = nn.BatchNorm2d(32)\n",
    "        \n",
    "        self.conv2 = nn.Conv2d(32, 64, kernel_size=3, padding=1)\n",
    "        self.bn2 = nn.BatchNorm2d(64)\n",
    "\n",
    "        # Pooling, activation, and regularization\n",
    "        self.pool = nn.MaxPool2d(2, 2)\n",
    "        self.relu = nn.ReLU()\n",
    "        self.dropout = nn.Dropout(0.5)\n",
    "        self.flatten = nn.Flatten()\n",
    "\n",
    "        # Fully connected layers\n",
    "        self.linear1 = nn.Linear(64 * 8 * 8, 512)\n",
    "        self.linear2 = nn.Linear(512, 256)\n",
    "        self.linear3 = nn.Linear(256, 100)\n",
    "\n",
    "    def forward(self, x):\n",
    "        x = self.conv1(x)\n",
    "        x = self.bn1(x)\n",
    "        x = self.relu(x)\n",
    "        x = self.pool(x)\n",
    "\n",
    "        x = self.conv2(x)\n",
    "        x = self.bn2(x)\n",
    "        x = self.relu(x)\n",
    "        x = self.pool(x)\n",
    "\n",
    "        x = self.dropout(x)\n",
    "        x = self.flatten(x)\n",
    "\n",
    "        x = self.linear1(x)\n",
    "        x = self.relu(x)\n",
    "\n",
    "        x = self.linear2(x)\n",
    "        x = self.relu(x)\n",
    "\n",
    "        x = self.linear3(x)\n",
    "        return x"
   ]
  },
  {
   "cell_type": "code",
   "execution_count": 6,
   "metadata": {
    "colab": {
     "base_uri": "https://localhost:8080/",
     "height": 280
    },
    "executionInfo": {
     "elapsed": 8,
     "status": "ok",
     "timestamp": 1748187693863,
     "user": {
      "displayName": "Tamanna Kumari",
      "userId": "01952186296851878699"
     },
     "user_tz": -330
    },
    "id": "gG-FtL1YKuK4",
    "outputId": "4f791231-a7bf-453f-f3db-c5fecfef134a"
   },
   "outputs": [
    {
     "name": "stderr",
     "output_type": "stream",
     "text": [
      "Clipping input data to the valid range for imshow with RGB data ([0..1] for floats or [0..255] for integers). Got range [-0.8117647..1.0].\n",
      "Clipping input data to the valid range for imshow with RGB data ([0..1] for floats or [0..255] for integers). Got range [-0.9607843..1.0].\n",
      "Clipping input data to the valid range for imshow with RGB data ([0..1] for floats or [0..255] for integers). Got range [-0.47450978..1.0].\n",
      "Clipping input data to the valid range for imshow with RGB data ([0..1] for floats or [0..255] for integers). Got range [-1.0..0.90588236].\n",
      "Clipping input data to the valid range for imshow with RGB data ([0..1] for floats or [0..255] for integers). Got range [-0.9529412..1.0].\n"
     ]
    },
    {
     "data": {
      "image/png": "[encoded data removed]",
      "text/plain": [
       "<Figure size 1000x200 with 5 Axes>"
      ]
     },
     "metadata": {},
     "output_type": "display_data"
    }
   ],
   "source": [
    "# Get class names\n",
    "classes = train_data.classes\n",
    "\n",
    "# Plot first 5 images\n",
    "plt.figure(figsize=(10, 2))\n",
    "\n",
    "for i in range(5):\n",
    "    image, label = train_data[i+9]\n",
    "    image = image.permute(1, 2, 0)  # from [C, H, W] to [H, W, C]\n",
    "\n",
    "    plt.subplot(1, 5, i+1)\n",
    "    plt.imshow(image)\n",
    "    plt.title(classes[label], fontsize=8)\n",
    "    plt.axis('off')\n",
    "\n",
    "plt.tight_layout()\n",
    "plt.show()\n"
   ]
  },
  {
   "cell_type": "code",
   "execution_count": 7,
   "metadata": {
    "executionInfo": {
     "elapsed": 4,
     "status": "ok",
     "timestamp": 1748187700070,
     "user": {
      "displayName": "Tamanna Kumari",
      "userId": "01952186296851878699"
     },
     "user_tz": -330
    },
    "id": "a8ehvQjmFMqZ"
   },
   "outputs": [],
   "source": [
    "def train(model,loader,optimizer,loss_fn,epochs = 5):\n",
    "  model.train()\n",
    "  for epoch in range(epochs):\n",
    "      total_loss = 0\n",
    "      for x, y in loader:\n",
    "          x, y = x.to(device), y.to(device)\n",
    "          optimizer.zero_grad()\n",
    "          logits = model(x)\n",
    "          loss = loss_fn(logits, y)\n",
    "          loss.backward()\n",
    "          optimizer.step()\n",
    "          total_loss += loss.item()\n",
    "      print(f\"Epoch {epoch+1}, Loss: {total_loss:.4f}\")\n",
    "\n",
    "\n",
    "def test(model,loader):\n",
    "  model.eval()\n",
    "  correct = 0\n",
    "  total = 0\n",
    "  with torch.no_grad():\n",
    "    for x, y in loader:\n",
    "      x, y = x.to(device), y.to(device)\n",
    "      logits = model(x)\n",
    "      total += y.size(0)\n",
    "      predicted = torch.argmax(logits, dim=1)\n",
    "      correct += (predicted == y).sum().item()\n",
    "  print(f\"Accuracy: {100 * correct / total}%\")\n",
    "\n"
   ]
  },
  {
   "cell_type": "code",
   "execution_count": 8,
   "metadata": {
    "colab": {
     "base_uri": "https://localhost:8080/"
    },
    "id": "xZzDLyq2Q3hR",
    "outputId": "148cefaa-a33c-449a-8b7d-73cab3c6e47c"
   },
   "outputs": [
    {
     "name": "stdout",
     "output_type": "stream",
     "text": [
      "Epoch 1, Loss: 2734.7917\n",
      "Epoch 2, Loss: 2218.3137\n",
      "Epoch 3, Loss: 2000.0665\n",
      "Epoch 4, Loss: 1859.5084\n",
      "Epoch 5, Loss: 1758.5690\n",
      "Epoch 6, Loss: 1681.5178\n",
      "Epoch 7, Loss: 1613.6468\n",
      "Epoch 8, Loss: 1555.4449\n",
      "Epoch 9, Loss: 1507.2617\n",
      "Epoch 10, Loss: 1457.5375\n",
      "Accuracy: 45.99%\n"
     ]
    }
   ],
   "source": [
    "model = MyModel()\n",
    "model.to(device)\n",
    "optimizer = optim.Adam(model.parameters(), lr=0.001)\n",
    "loss_fn = nn.CrossEntropyLoss()\n",
    "train(model,train_loader,optimizer,loss_fn,epochs=10)\n",
    "test(model,test_loader)"
   ]
  },
  {
   "cell_type": "code",
   "execution_count": 9,
   "metadata": {
    "colab": {
     "base_uri": "https://localhost:8080/"
    },
    "executionInfo": {
     "elapsed": 2182013,
     "status": "ok",
     "timestamp": 1748181135022,
     "user": {
      "displayName": "Tamanna Kumari",
      "userId": "01952186296851878699"
     },
     "user_tz": -330
    },
    "id": "_m8e_d7aldMM",
    "outputId": "c97c5e2f-6f3e-4869-b29e-da30e8ae5419"
   },
   "outputs": [
    {
     "name": "stdout",
     "output_type": "stream",
     "text": [
      "Epoch 1, Loss: 1418.9906\n",
      "Epoch 2, Loss: 1378.3958\n",
      "Epoch 3, Loss: 1346.8155\n",
      "Epoch 4, Loss: 1327.4249\n",
      "Epoch 5, Loss: 1293.3352\n",
      "Epoch 6, Loss: 1262.0123\n",
      "Epoch 7, Loss: 1238.2180\n",
      "Epoch 8, Loss: 1215.2011\n",
      "Epoch 9, Loss: 1197.3911\n",
      "Epoch 10, Loss: 1173.3704\n",
      "Accuracy: 48.13%\n"
     ]
    },
    {
     "data": {
      "image/png": "[encoded data removed]",
      "text/plain": [
       "<Figure size 1000x200 with 5 Axes>"
      ]
     },
     "metadata": {},
     "output_type": "display_data"
    }
   ],
   "source": [
    "train(model,train_loader,optimizer,loss_fn,epochs=10)\n",
    "test(model,test_loader) #why is accuracy not improving?\n",
    "# Visualize some predictions\n",
    "def visualize_predictions(model, loader, num_images=5):\n",
    "    model.eval()\n",
    "    images, labels = next(iter(loader))\n",
    "    images, labels = images.to(device), labels.to(device)\n",
    "    \n",
    "    with torch.no_grad():\n",
    "        outputs = model(images)\n",
    "        _, predicted = torch.max(outputs, 1)\n",
    "\n",
    "    plt.figure(figsize=(10, 2))\n",
    "    for i in range(num_images):\n",
    "        image = images[i].cpu().permute(1, 2, 0).numpy()\n",
    "        image = (image * 0.5) + 0.5  # unnormalize\n",
    "        plt.subplot(1, num_images, i + 1)\n",
    "        plt.imshow(image)\n",
    "        plt.title(f\"Pred: {classes[predicted[i]]}\\nTrue: {classes[labels[i]]}\")\n",
    "        plt.axis('off')\n",
    "    plt.tight_layout()\n",
    "    plt.show()\n",
    "visualize_predictions(model, test_loader, num_images=5)\n"
   ]
  }
 ],
 "metadata": {
  "colab": {
   "authorship_tag": "ABX9TyPo2iAqfFBeVO3CKwIy2Ep7",
   "provenance": []
  },
  "kernelspec": {
   "display_name": "Python 3",
   "language": "python",
   "name": "python3"
  },
  "language_info": {
   "codemirror_mode": {
    "name": "ipython",
    "version": 3
   },
   "file_extension": ".py",
   "mimetype": "text/x-python",
   "name": "python",
   "nbconvert_exporter": "python",
   "pygments_lexer": "ipython3",
   "version": "3.13.0"
  }
 },
 "nbformat": 4,
 "nbformat_minor": 0
}
